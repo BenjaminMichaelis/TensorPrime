{
  "cells": [
    {
      "cell_type": "markdown",
      "metadata": {
        "id": "NBev5pqChN1_"
      },
      "source": [
        "# **📔 TensorPrime**\n",
        "\n",
        "#### ↖️ Click the ▶️ button after deciding on the options below.\n",
        "#### 🔌 Make sure the TPU is enabled under *Runtime→Change runtime type*\n",
        "#### 💡 Keep each notebook **open** in the browser to prevent disconnection. 📌 [the tab](https://support.mozilla.org/en-US/kb/pinned-tabs-keep-favorite-websites-open) or move them to a dedicated window for easy access.\n",
        "#### ℹ️ This notebook uses our [TensorPrime](https://github.com/TPU-Mersenne-Prime-Search/TensorPrime) and our [PrimeNet Python script](https://github.com/tdulcet/Distributed-Computing-Scripts#primenet).\n",
        "#### 📜 Please see the [wiki](TPU-Mersenne-Prime-Search/TensorPrime) for more information.\n",
        "#### 🤷 Optionally, create a GIMPS/PrimeNet account [here](https://www.mersenne.org/update/) and [join](https://www.mersenne.org/jteam/) the “Portland State University” team!\n"
      ]
    },
    {
      "cell_type": "code",
      "execution_count": null,
      "metadata": {
        "id": "CPhdm16S8JqB",
        "cellView": "form"
      },
      "outputs": [],
      "source": [
        "import os\n",
        "\n",
        "#{ vertical-output: true, form-width: \"20%\", display-mode: \"form\" }\n",
        "\n",
        "branch = 'master' #@param ['master'] {allow-input: true}\n",
        "prime_ID = 'Default' #@param ['Default'] {allow-input: true}\n",
        "computer_name = 'Default' #@param ['Default'] {allow-input: true}\n",
        "TPU_type_of_work = '150 - First time PRP tests' #@param ['150 - First time PRP tests', '151 - Double-check PRP tests']\n",
        "computer_number = 'Default (1)' #@param ['Default (1)', '2', '3', '4'] {allow-input: true}\n",
        "output_type = 'TPU (TensorPrime)' #@param ['TPU (TensorPrime)']\n",
        "local_time = 'Pacific' #@param ['Pacific', 'Mountain', 'Central', 'Eastern', 'Alaska', 'Hawaii']\n",
        "debug = 'False' #@param ['False', 'TPU (TensorPrime)']\n",
        "\n",
        "\n",
        "#@markdown #### 🐛 The *debug* option outputs TPU (TensorPrime) progress and status, then exits.\n",
        "\n",
        "\n",
        "'''Load & cd into gdrive for persistent data'''\n",
        "global path_dir\n",
        "if not os.path.exists('/content/gdrive/MyDrive/'): # create your own notebook with our code\n",
        "  print(\"Google Drive is not mounted at /content/gdrive. You will be prompted to sign in to Google to mount your GDrive.\")\n",
        "  from google.colab import drive\n",
        "  drive.mount('/content/gdrive')\n",
        "%cd '/content/gdrive/MyDrive'\n",
        "\n",
        "\n",
        "if not os.path.exists('/content/gdrive/MyDrive/GIMPS'):\n",
        "  print(\"Creating GIMPS folder...\")\n",
        "  %mkdir -p GIMPS\n",
        "%cd 'GIMPS'\n",
        "\n",
        "!git clone https://github.com/TPU-Mersenne-Prime-Search/TensorPrime/ TensorPrime\n",
        "%cd TensorPrime\n",
        "!git pull && git checkout {branch} && git pull"
      ]
    },
    {
      "cell_type": "markdown",
      "source": [
        "# Manual Expoenent Testing\n",
        "Below is an example of a manual run of TensorPrime with a custom exponent and signal (FFT) length. If no signal length is specified, the program will automatically compute the signal length as floor$($log$_2($exponent$))-2$."
      ],
      "metadata": {
        "id": "5_6PeNdXYDYg"
      }
    },
    {
      "cell_type": "code",
      "source": [
        "exponent = 4423\n",
        "signal_length = 1024\n",
        "\n",
        "!python3 main.py -p $exponent --siglen $signal_length"
      ],
      "metadata": {
        "id": "QclvWorBGCTf"
      },
      "execution_count": null,
      "outputs": []
    },
    {
      "cell_type": "markdown",
      "source": [
        "# PrimeNet\n",
        "\n",
        "TensorPrime has support for receiving assignments from PrimeNet. Currently progress and result reporting are not supported."
      ],
      "metadata": {
        "id": "RikSZtrvNgjm"
      }
    },
    {
      "cell_type": "code",
      "execution_count": null,
      "metadata": {
        "id": "M5Ge_0uONdZP"
      },
      "outputs": [],
      "source": [
        "# Establish connection to PrimeNet sending over credentials\n",
        "print(\"\\nDownloading PrimeNet...\\n\")\n",
        "# Download the primenet script from Github\n",
        "user = \"tdulcet\"\n",
        "repo = \"Distributed-Computing-Scripts\"\n",
        "branch = \"master\"\n",
        "pyfile = \"primenet.py\"\n",
        "\n",
        "url = f\"https://raw.githubusercontent.com/{user}/{repo}/{branch}/{pyfile}\"\n",
        "!wget --no-cache --backups=1 {url}\n",
        "\n",
        "# Register the computer with Primenet\n",
        "print(\"\\nRegistering computer with Primenet...\\n\")\n",
        "!python3 primenet.py -d -t 0 -W 1 -T $TPU_type_of_work -u $prime_ID -i \"{'worktodo' + computer_number + '.txt'}\" -r \"{'results' + computer_number + '.txt'}\" -l \"{'local' + computer_number + '.ini'}\" -H $computer_name\n"
      ]
    },
    {
      "cell_type": "code",
      "execution_count": null,
      "metadata": {
        "id": "aSqAOjE-NdZP"
      },
      "outputs": [],
      "source": [
        "#Get an assignment from primenet\n",
        "print('\\nStarting PrimeNet...\\n')\n",
        "!nohup python3 primenet.py -d -t 3600 -T $TPU_type_of_work -l \"{'local' + computer_number + '.ini'}\" >> \"{'primenet' + computer_number + '.out'}\" &\n",
        "!sleep 1\n",
        "while not os.path.exists('worktodo' + computer_number + '.txt'):\n",
        "    print(f'Waiting for worktodo{computer_number}.txt access...')\n",
        "    !sleep 1"
      ]
    },
    {
      "cell_type": "markdown",
      "metadata": {
        "id": "gj_DXBkgjbDu"
      },
      "source": [
        "## Run the cell below to kick off TensorPrime"
      ]
    },
    {
      "cell_type": "code",
      "execution_count": null,
      "metadata": {
        "id": "AvJwUadI8BUQ"
      },
      "outputs": [],
      "source": [
        "with open(\"/content/gdrive/MyDrive/GIMPS/TensorPrime/worktodoDefault (1).txt\", \"r\") as filestream:\n",
        "  for line in filestream:\n",
        "    currentline = line.split(\",\")\n",
        "    print(\"running exponent:\", currentline[3])\n",
        "    x = currentline[3]\n",
        "    !python3 main.py -p $x"
      ]
    }
  ],
  "metadata": {
    "accelerator": "TPU",
    "colab": {
      "name": "BootstrapTensorPrime.ipynb",
      "provenance": []
    },
    "kernelspec": {
      "display_name": "Python 3 (ipykernel)",
      "language": "python",
      "name": "python3"
    },
    "language_info": {
      "name": "python"
    }
  },
  "nbformat": 4,
  "nbformat_minor": 0
}