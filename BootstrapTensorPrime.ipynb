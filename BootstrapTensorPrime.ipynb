{
 "cells": [
  {
   "cell_type": "code",
   "execution_count": 1,
   "metadata": {
    "id": "CPhdm16S8JqB"
   },
   "outputs": [],
   "source": [
    "#@title # **📔 TensorPrime**#{ vertical-output: true, form-width: \"50%\", display-mode: \"form\" }\n",
    "\n",
    "#@markdown #### ↖️ Click the ▶️ button after deciding on the options below.\n",
    "#@markdown #### 🔌 Make sure the TPU is enabled under *Runtime→Change runtime type*\n",
    "#@markdown #### 💡 Keep each notebook **open** in the browser to prevent disconnection. 📌 [the tab](https://support.mozilla.org/en-US/kb/pinned-tabs-keep-favorite-websites-open) or move them to a dedicated window for easy access.\n",
    "#@markdown #### ℹ️ This notebook uses our [TensorPrime](https://github.com/TPU-Mersenne-Prime-Search/TensorPrime) and our [PrimeNet Python script](https://github.com/tdulcet/Distributed-Computing-Scripts#primenet).\n",
    "#@markdown #### 📜 Please see the [wiki](TPU-Mersenne-Prime-Search/TensorPrime) for more information.\n",
    "#@markdown #### 🤷 Optionally, create a GIMPS/PrimeNet account [here](https://www.mersenne.org/update/) and [join](https://www.mersenne.org/jteam/) the “Portland State University” team!\n",
    "\n",
    "prime_ID = 'Default' #@param ['Default'] {allow-input: true}\n",
    "computer_name = 'Default' #@param ['Default'] {allow-input: true}\n",
    "TPU_type_of_work = '150 - First time PRP tests' #@param ['150 - First time PRP tests', '151 - Double-check PRP tests']\n",
    "computer_number = 'Default (1)' #@param ['Default (1)', '2', '3', '4'] {allow-input: true}\n",
    "output_type = 'TPU (TensorPrime)' #@param ['TPU (TensorPrime)']\n",
    "local_time = 'Pacific' #@param ['Pacific', 'Mountain', 'Central', 'Eastern', 'Alaska', 'Hawaii']\n",
    "debug = 'False' #@param ['False', 'TPU (<Insert TPU program name>)', 'CPU (Prime95)']\n",
    "\n",
    "\n",
    "#@markdown #### 🐛 The *debug* option outputs TPU (TensorPrime) progress and status, then exits."
   ]
  },
  {
   "cell_type": "code",
   "execution_count": null,
   "metadata": {},
   "outputs": [],
   "source": [
    "import logging\n",
    "import time\n",
    "\n",
    "LOGGER_NAME = \"mersenne\"\n",
    "def create_mersenne_logger(name):\n",
    "    # set delay to true in order to only write on .emit()\n",
    "    # mode = w for wrte, recreates per runtime. if we want a per runtime file generated, we use time_name to create \n",
    "    # a unique name based on the time the file is run\n",
    "    #\n",
    "    # mode = a for appending to an extant file, otherwise identical to write\n",
    "    global LOGGER_NAME\n",
    "    m_logger = logging.getLogger(LOGGER_NAME, level = \"info\")\n",
    "    fh = logging.FileHandler(filename = name, mode = \"a\", delay = False)\n",
    "    fh.setFormatter(logging.Formatter(\"%(asctime)s %(message)s\", level = logging.INFO))\n",
    "    m_logger.addHandler(fh)\n",
    "    return m_logger\n",
    "\n",
    "def time_name(name: str = None):\n",
    "    if name == None:\n",
    "        name = \".log\"\n",
    "    return time.strftime(\"%Y%m%dT%H%M%S\", time.gmtime()) + \"_\" + name\n",
    "\n",
    "m_logger = create_mersenne_logger(time_name(\"Mersenne.log\"))\n",
    "\n"
   ]
  },
  {
   "cell_type": "code",
   "execution_count": null,
   "metadata": {
    "id": "AvJwUadI8BUQ"
   },
   "outputs": [],
   "source": [
    "import os\n",
    "\n",
    "tensorprime_path = \"/content/drive/My Drive/GIMPS/TensorPrime\"\n",
    "\n",
    "'''Load & cd into gdrive for persistent data'''\n",
    "global path_dir\n",
    "if os.path.exists(\"/content/drive/My Drive\"): # create your own notebook with our code\n",
    "  %cd \"/content/drive/My Drive\"\n",
    "else: # use our notebook\n",
    "  print('Warning: Google Drive is not mounted')\n",
    "  print('If you were not expecting this, on the far left click the folder icon, the \"Mount Drive\" folder button, select \"CONNECT TO GOOGLE DRIVE\" ')\n",
    "  print('and then re-execute this cell.')\n",
    "  from google.colab import drive\n",
    "  drive.mount('/content/gdrive')\n",
    "  %cd \"/content/gdrive/My Drive\"\n",
    "  %mkdir -p GIMPS\n",
    "  %cd GIMPS\n",
    "if not os.path.exists(\"/content/drive/My Drive/GIMPS/TensorPrime/\"):\n",
    "  !git clone https://github.com/TPU-Mersenne-Prime-Search/TensorPrime/\n",
    "%cd TensorPrime\n",
    "!git pull && git checkout colab-notebook-bootstrap\n",
    "!python3 main.py -p 127 "
   ]
  }
 ],
 "metadata": {
  "colab": {
   "name": "BootstrapTensorPrime",
   "provenance": []
  },
  "kernelspec": {
   "display_name": "Python 3 (ipykernel)",
   "language": "python",
   "name": "python3"
  },
  "language_info": {
   "name": "python"
  }
 },
 "nbformat": 4,
 "nbformat_minor": 1
}
