{
 "cells": [
  {
   "cell_type": "markdown",
   "metadata": {},
   "source": [
    "Mount drive"
   ]
  },
  {
   "cell_type": "code",
   "execution_count": null,
   "metadata": {},
   "outputs": [],
   "source": [
    "import os\n",
    "'''Load & cd into gdrive for persistent data'''\n",
    "global path_dir\n",
    "if os.path.exists(\"/content/drive/My Drive\"): # create your own notebook with our code\n",
    "  %cd \"/content/drive/My Drive\"\n",
    "  path_dir = \"/content/drive/My Drive/TensorPrime/\"\n",
    "else: # use our notebook\n",
    "  print('Warning: Google Drive is not mounted')\n",
    "  print('If you were not expecting this, on the far left click the folder icon, the \"Mount Drive\" folder button, select \"CONNECT TO GOOGLE DRIVE\" ')\n",
    "  print('and then re-execute this cell.')\n",
    "  from google.colab import drive\n",
    "  drive.mount('/content/gdrive')\n",
    "  %cd \"/content/gdrive/My Drive\"\n",
    "  path_dir = \"/content/gdrive/My Drive/TensorPrime/\"\n",
    "!mkdir -p TensorPrime\n",
    "%cd \"TensorPrime\""
   ]
  },
  {
   "cell_type": "markdown",
   "metadata": {},
   "source": [
    "Clone repository and navigate"
   ]
  },
  {
   "cell_type": "code",
   "execution_count": null,
   "metadata": {},
   "outputs": [],
   "source": [
    "if os.path.exists(\"/content/drive/My Drive/TensorPrime/tests\"):\n",
    "  if path_dir != \"/content/drive/My Drive/TensorPrime/tests\":\n",
    "    path_dir = \"/content/drive/My Drive/TensorPrime/tests\"\n",
    "else:\n",
    "  !git clone https://github.com/TPU-Mersenne-Prime-Search/TensorPrime/ tests\n",
    "%cd \"tests\"\n",
    "!git status"
   ]
  },
  {
   "cell_type": "markdown",
   "metadata": {},
   "source": [
    "Pull latest code from new branch"
   ]
  },
  {
   "cell_type": "code",
   "execution_count": null,
   "metadata": {},
   "outputs": [],
   "source": [
    "!git checkout master #rename to the name of branch being tests\n",
    "!git pull"
   ]
  },
  {
   "cell_type": "markdown",
   "metadata": {},
   "source": [
    "Run tests"
   ]
  },
  {
   "cell_type": "code",
   "execution_count": null,
   "metadata": {},
   "outputs": [],
   "source": [
    "!python tests.py"
   ]
  }
 ],
 "metadata": {
  "language_info": {
   "name": "python"
  },
  "orig_nbformat": 4
 },
 "nbformat": 4,
 "nbformat_minor": 2
}
