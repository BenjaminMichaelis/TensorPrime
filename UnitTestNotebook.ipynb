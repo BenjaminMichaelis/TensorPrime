{
  "cells": [
    {
      "cell_type": "markdown",
      "metadata": {
        "id": "E7rJu_hoxQPW"
      },
      "source": [
        "# Unit Testing\n",
        "\n",
        "This notebook provides a way to run unit tests in Google Colab on TPU hardware. Make sure the `TPU` runtime type is enabled and run the following cells in order."
      ]
    },
    {
      "cell_type": "code",
      "execution_count": null,
      "metadata": {
        "id": "Dq2VFw7gxQPY"
      },
      "outputs": [],
      "source": [
        "import os\n",
        "\n",
        "tensorprime_path = \"/content/drive/My Drive/GIMPS/TensorPrime\"\n",
        "\n",
        "'''Load & cd into gdrive for persistent data'''\n",
        "global path_dir\n",
        "if os.path.exists(\"/content/drive/My Drive\"): # create your own notebook with our code\n",
        "  %cd \"/content/drive/My Drive\"\n",
        "else: # use our notebook\n",
        "  print('Warning: Google Drive is not mounted')\n",
        "  print('If you were not expecting this, on the far left click the folder icon, the \"Mount Drive\" folder button, select \"CONNECT TO GOOGLE DRIVE\" ')\n",
        "  print('and then re-execute this cell.')\n",
        "  from google.colab import drive\n",
        "  drive.mount('/content/gdrive')\n",
        "  %cd \"/content/gdrive/My Drive\"\n",
        "  %mkdir -p GIMPS\n",
        "  %cd GIMPS"
      ]
    },
    {
      "cell_type": "markdown",
      "metadata": {
        "id": "vsMIiRiwxQPb"
      },
      "source": [
        "Clone repository and navigate"
      ]
    },
    {
      "cell_type": "code",
      "execution_count": null,
      "metadata": {
        "id": "GVGQOBqqxQPc"
      },
      "outputs": [],
      "source": [
        "if not os.path.exists(\"/content/drive/My Drive/GIMPS/TensorPrime/\"):\n",
        "  !git clone https://github.com/TPU-Mersenne-Prime-Search/TensorPrime/\n",
        "%pwd\n",
        "%cd TensorPrime\n",
        "!git status"
      ]
    },
    {
      "cell_type": "markdown",
      "metadata": {
        "id": "suRHdNxqxQPc"
      },
      "source": [
        "Pull latest code from new branch"
      ]
    },
    {
      "cell_type": "code",
      "execution_count": null,
      "metadata": {
        "id": "TsfB1kF0xQPd"
      },
      "outputs": [],
      "source": [
        "!git checkout master #rename to the name of branch being tested\n",
        "!git pull"
      ]
    },
    {
      "cell_type": "markdown",
      "metadata": {
        "id": "oMj6t7JPxQPd"
      },
      "source": [
        "Run tests"
      ]
    },
    {
      "cell_type": "code",
      "execution_count": null,
      "metadata": {
        "id": "vOAACIRjxQPe"
      },
      "outputs": [],
      "source": [
        "!python tests.py"
      ]
    }
  ],
  "metadata": {
    "language_info": {
      "name": "python"
    },
    "orig_nbformat": 4,
    "colab": {
      "name": "UnitTestNotebook.ipynb",
      "provenance": []
    },
    "kernelspec": {
      "name": "python3",
      "display_name": "Python 3"
    },
    "accelerator": "TPU"
  },
  "nbformat": 4,
  "nbformat_minor": 0
}