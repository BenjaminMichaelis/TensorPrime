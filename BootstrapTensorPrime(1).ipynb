{
  "cells": [
    {
      "cell_type": "markdown",
      "metadata": {
        "id": "NBev5pqChN1_"
      },
      "source": [
        "# **📔 TensorPrime**\n",
        "\n",
        "#### ↖️ Click the ▶️ button after deciding on the options below.\n",
        "#### 🔌 Make sure the TPU is enabled under *Runtime→Change runtime type*\n",
        "#### 💡 Keep each notebook **open** in the browser to prevent disconnection. 📌 [the tab](https://support.mozilla.org/en-US/kb/pinned-tabs-keep-favorite-websites-open) or move them to a dedicated window for easy access.\n",
        "#### ℹ️ This notebook uses our [TensorPrime](https://github.com/TPU-Mersenne-Prime-Search/TensorPrime) and our [PrimeNet Python script](https://github.com/tdulcet/Distributed-Computing-Scripts#primenet).\n",
        "#### 📜 Please see the [wiki](TPU-Mersenne-Prime-Search/TensorPrime) for more information.\n",
        "#### 🤷 Optionally, create a GIMPS/PrimeNet account [here](https://www.mersenne.org/update/) and [join](https://www.mersenne.org/jteam/) the “Portland State University” team!\n"
      ]
    },
    {
      "cell_type": "code",
      "execution_count": 1,
      "metadata": {
        "id": "CPhdm16S8JqB",
        "outputId": "7bed9e1f-7733-4a04-d4bb-74cc458d33da",
        "colab": {
          "base_uri": "https://localhost:8080/"
        }
      },
      "outputs": [
        {
          "output_type": "stream",
          "name": "stdout",
          "text": [
            "Google Drive is not mounted at /content/gdrive. You will be prompted to sign in to Google to mount your GDrive.\n",
            "Mounted at /content/gdrive\n",
            "/content/gdrive/MyDrive\n",
            "/content/gdrive/MyDrive/GIMPS\n",
            "fatal: destination path 'TensorPrime' already exists and is not an empty directory.\n",
            "/content/gdrive/MyDrive/GIMPS/TensorPrime\n",
            "remote: Enumerating objects: 134, done.\u001b[K\n",
            "remote: Counting objects: 100% (124/124), done.\u001b[K\n",
            "remote: Compressing objects: 100% (60/60), done.\u001b[K\n",
            "remote: Total 97 (delta 61), reused 66 (delta 37), pack-reused 0\u001b[K\n",
            "Unpacking objects: 100% (97/97), done.\n",
            "From https://github.com/TPU-Mersenne-Prime-Search/TensorPrime\n",
            "   4f75fd4..d33b820  master            -> origin/master\n",
            "   9a2bdc9..f2f9c17  GECfixed          -> origin/GECfixed\n",
            " * [new branch]      SaveRestore       -> origin/SaveRestore\n",
            " * [new branch]      daniel_tpu_initialization -> origin/daniel_tpu_initialization\n",
            " * [new branch]      ibdwt             -> origin/ibdwt\n",
            " * [new branch]      ibdwt-without-tpu -> origin/ibdwt-without-tpu\n",
            " * [new branch]      primenetsetup     -> origin/primenetsetup\n",
            "Updating 4f75fd4..d33b820\n",
            "Fast-forward\n",
            " Timed trials (1).csv | 27 \u001b[32m+++++++++++++++++++++++++++\u001b[m\n",
            " Timetrials.ipynb     |  1 \u001b[32m+\u001b[m\n",
            " config.py            | 18 \u001b[32m++++++++++++++++++\u001b[m\n",
            " main.py              |  2 \u001b[32m++\u001b[m\n",
            " prptest.py           |  5 \u001b[32m+++++\u001b[m\n",
            " tests.py             | 37 \u001b[32m++++++++++++++++++++++++++++++++++\u001b[m\u001b[31m---\u001b[m\n",
            " 6 files changed, 87 insertions(+), 3 deletions(-)\n",
            " create mode 100644 Timed trials (1).csv\n",
            " create mode 100644 Timetrials.ipynb\n",
            "Already on 'master'\n",
            "Your branch is up to date with 'origin/master'.\n",
            "Already up to date.\n"
          ]
        }
      ],
      "source": [
        "import os\n",
        "\n",
        "#{ vertical-output: true, form-width: \"20%\", display-mode: \"form\" }\n",
        "\n",
        "branch = 'master' #@param ['master'] {allow-input: true}\n",
        "prime_ID = 'Default' #@param ['Default'] {allow-input: true}\n",
        "computer_name = 'Default' #@param ['Default'] {allow-input: true}\n",
        "TPU_type_of_work = '150 - First time PRP tests' #@param ['150 - First time PRP tests', '151 - Double-check PRP tests']\n",
        "computer_number = 'Default (1)' #@param ['Default (1)', '2', '3', '4'] {allow-input: true}\n",
        "output_type = 'TPU (TensorPrime)' #@param ['TPU (TensorPrime)']\n",
        "local_time = 'Pacific' #@param ['Pacific', 'Mountain', 'Central', 'Eastern', 'Alaska', 'Hawaii']\n",
        "debug = 'False' #@param ['False', 'TPU (TensorPrime)']\n",
        "\n",
        "\n",
        "#@markdown #### 🐛 The *debug* option outputs TPU (TensorPrime) progress and status, then exits.\n",
        "\n",
        "\n",
        "'''Load & cd into gdrive for persistent data'''\n",
        "global path_dir\n",
        "if not os.path.exists('/content/gdrive/MyDrive/'): # create your own notebook with our code\n",
        "  print(\"Google Drive is not mounted at /content/gdrive. You will be prompted to sign in to Google to mount your GDrive.\")\n",
        "  from google.colab import drive\n",
        "  drive.mount('/content/gdrive')\n",
        "%cd '/content/gdrive/MyDrive'\n",
        "\n",
        "\n",
        "if not os.path.exists('/content/gdrive/MyDrive/GIMPS'):\n",
        "  print(\"Creating GIMPS folder...\")\n",
        "  %mkdir -p GIMPS\n",
        "%cd 'GIMPS'\n",
        "\n",
        "!git clone https://github.com/TPU-Mersenne-Prime-Search/TensorPrime/ TensorPrime\n",
        "%cd TensorPrime\n",
        "!git pull && git checkout {branch} && git pull"
      ]
    },
    {
      "cell_type": "code",
      "execution_count": 2,
      "metadata": {
        "id": "hMR2ktg9HTMH",
        "outputId": "71488930-7ab9-4583-a4d2-bb1ac9189358",
        "colab": {
          "base_uri": "https://localhost:8080/"
        }
      },
      "outputs": [
        {
          "output_type": "stream",
          "name": "stdout",
          "text": [
            "\n",
            "Downloading PrimeNet...\n",
            "\n",
            "--2022-02-22 20:28:04--  https://raw.githubusercontent.com/tdulcet/Distributed-Computing-Scripts/master/primenet.py\n",
            "Resolving raw.githubusercontent.com (raw.githubusercontent.com)... 185.199.108.133, 185.199.109.133, 185.199.110.133, ...\n",
            "Connecting to raw.githubusercontent.com (raw.githubusercontent.com)|185.199.108.133|:443... connected.\n",
            "HTTP request sent, awaiting response... 200 OK\n",
            "Length: 102389 (100K) [text/plain]\n",
            "Failed to rename primenet.py to primenet.py.1: (2) No such file or directory\n",
            "Saving to: ‘primenet.py’\n",
            "\n",
            "primenet.py         100%[===================>]  99.99K  --.-KB/s    in 0.02s   \n",
            "\n",
            "2022-02-22 20:28:04 (5.61 MB/s) - ‘primenet.py’ saved [102389/102389]\n",
            "\n",
            "\n",
            "Registering computer with Primenet...\n",
            "\n",
            "primenet.py: merge_config_and_options:\t[MainThread 2022-02-22 20:28:05,275]  DEBUG: update “localDefault (1).ini” with workfile=worktodoDefault (1).txt\n",
            "primenet.py: merge_config_and_options:\t[MainThread 2022-02-22 20:28:05,275]  DEBUG: update “localDefault (1).ini” with resultsfile=resultsDefault (1).txt\n",
            "primenet.py: merge_config_and_options:\t[MainThread 2022-02-22 20:28:05,275]  DEBUG: update “localDefault (1).ini” with username=Default\n",
            "primenet.py: merge_config_and_options:\t[MainThread 2022-02-22 20:28:05,275]  DEBUG: update “localDefault (1).ini” with WorkPreference=150\n",
            "primenet.py: merge_config_and_options:\t[MainThread 2022-02-22 20:28:05,275]  DEBUG: update “localDefault (1).ini” with GetMinExponent=0\n",
            "primenet.py: merge_config_and_options:\t[MainThread 2022-02-22 20:28:05,275]  DEBUG: update “localDefault (1).ini” with GetMaxExponent=0\n",
            "primenet.py: merge_config_and_options:\t[MainThread 2022-02-22 20:28:05,276]  DEBUG: update “localDefault (1).ini” with gpuowl=False\n",
            "primenet.py: merge_config_and_options:\t[MainThread 2022-02-22 20:28:05,276]  DEBUG: update “localDefault (1).ini” with WorkerThreads=1\n",
            "primenet.py: merge_config_and_options:\t[MainThread 2022-02-22 20:28:05,276]  DEBUG: update “localDefault (1).ini” with num_cache=0\n",
            "primenet.py: merge_config_and_options:\t[MainThread 2022-02-22 20:28:05,276]  DEBUG: update “localDefault (1).ini” with DaysOfWork=1.0\n",
            "primenet.py: merge_config_and_options:\t[MainThread 2022-02-22 20:28:05,276]  DEBUG: update “localDefault (1).ini” with no_report_100m=False\n",
            "primenet.py: merge_config_and_options:\t[MainThread 2022-02-22 20:28:05,276]  DEBUG: update “localDefault (1).ini” with ComputerID=Default\n",
            "primenet.py: merge_config_and_options:\t[MainThread 2022-02-22 20:28:05,276]  DEBUG: update “localDefault (1).ini” with cpu_model=Intel(R) Xeon(R) CPU @ 2.20GHz\n",
            "primenet.py: merge_config_and_options:\t[MainThread 2022-02-22 20:28:05,276]  DEBUG: update “localDefault (1).ini” with features=\n",
            "primenet.py: merge_config_and_options:\t[MainThread 2022-02-22 20:28:05,276]  DEBUG: update “localDefault (1).ini” with CpuSpeed=1000\n",
            "primenet.py: merge_config_and_options:\t[MainThread 2022-02-22 20:28:05,276]  DEBUG: update “localDefault (1).ini” with memory=0\n",
            "primenet.py: merge_config_and_options:\t[MainThread 2022-02-22 20:28:05,276]  DEBUG: update “localDefault (1).ini” with L1=8\n",
            "primenet.py: merge_config_and_options:\t[MainThread 2022-02-22 20:28:05,276]  DEBUG: update “localDefault (1).ini” with L2=512\n",
            "primenet.py: merge_config_and_options:\t[MainThread 2022-02-22 20:28:05,276]  DEBUG: update “localDefault (1).ini” with L3=0\n",
            "primenet.py: merge_config_and_options:\t[MainThread 2022-02-22 20:28:05,276]  DEBUG: update “localDefault (1).ini” with NumCores=1\n",
            "primenet.py: merge_config_and_options:\t[MainThread 2022-02-22 20:28:05,276]  DEBUG: update “localDefault (1).ini” with CpuNumHyperthreads=0\n",
            "primenet.py: merge_config_and_options:\t[MainThread 2022-02-22 20:28:05,277]  DEBUG: update “localDefault (1).ini” with CPUHours=24\n",
            "primenet.py: <module>:\t[MainThread 2022-02-22 20:28:05,277]  DEBUG: write localDefault (1).ini\n",
            "primenet.py: register_instance:\t[MainThread 2022-02-22 20:28:05,302]  INFO: Updating computer information on the server\n",
            "connectionpool.py: _new_conn:\t[MainThread 2022-02-22 20:28:05,306]  DEBUG: Starting new HTTP connection (1): v5.mersenne.org:80\n",
            "connectionpool.py: _make_request:\t[MainThread 2022-02-22 20:28:05,779]  DEBUG: http://v5.mersenne.org:80 \"GET /v5server/?px=GIMPS&v=0.95&t=uc&g=06ef0856b3fa4174bf68bb967278333a&hg=5768fc04b56d83336748ec2ccedcfce4&wg=&a=Linux64%2CMlucas%2Cv20.1&c=Intel%28R%29+Xeon%28R%29+CPU+%40+2.20GHz&f=&L1=8&L2=512&np=1&hp=0&m=0&s=1000&h=24&r=0&u=Default&cn=Default&ss=19191919&sh=ABCDABCDABCDABCDABCDABCDABCDABCD HTTP/1.1\" 200 127\n",
            "primenet.py: program_options:\t[MainThread 2022-02-22 20:28:05,784]  INFO: Exchanging program options with server\n",
            "connectionpool.py: _make_request:\t[MainThread 2022-02-22 20:28:06,067]  DEBUG: http://v5.mersenne.org:80 \"GET /v5server/?px=GIMPS&v=0.95&t=po&g=06ef0856b3fa4174bf68bb967278333a&c=&w=150&nw=1&DaysOfWork=1&DayMemory=0&NightMemory=0&ss=19191919&sh=ABCDABCDABCDABCDABCDABCDABCDABCD HTTP/1.1\" 200 77\n",
            "primenet.py: merge_config_and_options:\t[MainThread 2022-02-22 20:28:06,068]  DEBUG: update “localDefault (1).ini” with username=Default\n",
            "primenet.py: register_instance:\t[MainThread 2022-02-22 20:28:06,074]  INFO: GUID 06ef0856b3fa4174bf68bb967278333a correctly registered with the following features:\n",
            "primenet.py: register_instance:\t[MainThread 2022-02-22 20:28:06,074]  INFO: Username: Default\n",
            "primenet.py: register_instance:\t[MainThread 2022-02-22 20:28:06,074]  INFO: Computer name: Default\n",
            "primenet.py: register_instance:\t[MainThread 2022-02-22 20:28:06,074]  INFO: CPU model: Intel(R) Xeon(R) CPU @ 2.20GHz\n",
            "primenet.py: register_instance:\t[MainThread 2022-02-22 20:28:06,074]  INFO: CPU features: \n",
            "primenet.py: register_instance:\t[MainThread 2022-02-22 20:28:06,074]  INFO: CPU L1 Cache size: 8 KIB\n",
            "primenet.py: register_instance:\t[MainThread 2022-02-22 20:28:06,074]  INFO: CPU L2 Cache size: 512 KiB\n",
            "primenet.py: register_instance:\t[MainThread 2022-02-22 20:28:06,075]  INFO: CPU cores: 1\n",
            "primenet.py: register_instance:\t[MainThread 2022-02-22 20:28:06,075]  INFO: CPU threads per core: 0\n",
            "primenet.py: register_instance:\t[MainThread 2022-02-22 20:28:06,075]  INFO: CPU frequency/speed: 1,000 MHz\n",
            "primenet.py: register_instance:\t[MainThread 2022-02-22 20:28:06,075]  INFO: Total RAM: 0 MiB\n",
            "primenet.py: register_instance:\t[MainThread 2022-02-22 20:28:06,075]  INFO: To change these values, please rerun the script with different options or edit the “localDefault (1).ini” file\n",
            "primenet.py: register_instance:\t[MainThread 2022-02-22 20:28:06,075]  INFO: You can see the result in this page:\n",
            "primenet.py: register_instance:\t[MainThread 2022-02-22 20:28:06,075]  INFO: https://www.mersenne.org/editcpu/?g=06ef0856b3fa4174bf68bb967278333a\n"
          ]
        }
      ],
      "source": [
        "# Establish connection to PrimeNet sending over credentials\n",
        "print(\"\\nDownloading PrimeNet...\\n\")\n",
        "# Download the primenet script from Github\n",
        "user = \"tdulcet\"\n",
        "repo = \"Distributed-Computing-Scripts\"\n",
        "branch = \"master\"\n",
        "pyfile = \"primenet.py\"\n",
        "\n",
        "url = f\"https://raw.githubusercontent.com/{user}/{repo}/{branch}/{pyfile}\"\n",
        "!wget --no-cache --backups=1 {url}\n",
        "\n",
        "# Register the computer with Primenet\n",
        "print(\"\\nRegistering computer with Primenet...\\n\")\n",
        "!python3 primenet.py -d -t 0 -W 1 -T $TPU_type_of_work -u $prime_ID -i \"{'worktodo' + computer_number + '.txt'}\" -r \"{'results' + computer_number + '.txt'}\" -l \"{'local' + computer_number + '.ini'}\" -H $computer_name\n"
      ]
    },
    {
      "cell_type": "code",
      "execution_count": 3,
      "metadata": {
        "id": "YGjTMA8oHTMI",
        "outputId": "a818930e-7789-4c4c-c7df-140c5f2c87c6",
        "colab": {
          "base_uri": "https://localhost:8080/"
        }
      },
      "outputs": [
        {
          "output_type": "stream",
          "name": "stdout",
          "text": [
            "\n",
            "Starting PrimeNet...\n",
            "\n",
            "nohup: redirecting stderr to stdout\n",
            "Waiting for worktodoDefault (1).txt access...\n",
            "Waiting for worktodoDefault (1).txt access...\n"
          ]
        }
      ],
      "source": [
        "#Get an assignment from primenet\n",
        "print('\\nStarting PrimeNet...\\n')\n",
        "!nohup python3 primenet.py -d -t 3600 -T $TPU_type_of_work -l \"{'local' + computer_number + '.ini'}\" >> \"{'primenet' + computer_number + '.out'}\" &\n",
        "!sleep 1\n",
        "while not os.path.exists('worktodo' + computer_number + '.txt'):\n",
        "    print(f'Waiting for worktodo{computer_number}.txt access...')\n",
        "    !sleep 1"
      ]
    },
    {
      "cell_type": "markdown",
      "metadata": {
        "id": "gj_DXBkgjbDu"
      },
      "source": [
        "## Run the cell below to kick off TensorPrime"
      ]
    },
    {
      "cell_type": "code",
      "execution_count": 11,
      "metadata": {
        "id": "AvJwUadI8BUQ",
        "outputId": "4b3a5100-5534-429c-c680-ef9fec226244",
        "colab": {
          "base_uri": "https://localhost:8080/"
        }
      },
      "outputs": [
        {
          "output_type": "stream",
          "name": "stdout",
          "text": [
            "running exponent: 114882739\n",
            "Starting TensorPrime\n",
            "Testing p=114882739\n",
            "IBDWT arrays initialized in  37.08987307548523  seconds.\n",
            "Configuring TPU...\n",
            "2022-02-22 20:45:19.927805: E tensorflow/stream_executor/cuda/cuda_driver.cc:271] failed call to cuInit: CUDA_ERROR_NO_DEVICE: no CUDA-capable device is detected\n",
            "TPU configuration complete.\n",
            "Total time:  31.330036640167236\n",
            "\n",
            "Starting Probable Prime Test.\n",
            "Time elapsed at iteration  0 :  2.2489728927612305 . S =  9\n",
            "Traceback (most recent call last):\n",
            "  File \"main.py\", line 65, in <module>\n",
            "    main()\n",
            "  File \"main.py\", line 60, in main\n",
            "    is_probable_prime = probable_prime(p)\n",
            "  File \"/content/gdrive/MyDrive/GIMPS/TensorPrime/prptest.py\", line 10, in probable_prime\n",
            "    s = ibdwt.squaremod_with_ibdwt(s)\n",
            "  File \"/content/gdrive/MyDrive/GIMPS/TensorPrime/IBDWT.py\", line 57, in squaremod_with_ibdwt\n",
            "    carried_signal = carry(rounded_signal, bit_array)\n",
            "  File \"/content/gdrive/MyDrive/GIMPS/TensorPrime/IBDWT.py\", line 124, in carry\n",
            "    signal[i] %= max\n",
            "OverflowError: Python int too large to convert to C long\n"
          ]
        }
      ],
      "source": [
        "with open(\"/content/gdrive/MyDrive/GIMPS/TensorPrime/worktodoDefault (1).txt\", \"r\") as filestream:\n",
        "  for line in filestream:\n",
        "    currentline = line.split(\",\")\n",
        "    print(\"running exponent:\", currentline[3])\n",
        "    x = currentline[3]\n",
        "    !python3 main.py -p $x"
      ]
    }
  ],
  "metadata": {
    "accelerator": "TPU",
    "colab": {
      "name": "BootstrapTensorPrime.ipynb",
      "provenance": []
    },
    "kernelspec": {
      "display_name": "Python 3 (ipykernel)",
      "language": "python",
      "name": "python3"
    },
    "language_info": {
      "name": "python"
    }
  },
  "nbformat": 4,
  "nbformat_minor": 0
}